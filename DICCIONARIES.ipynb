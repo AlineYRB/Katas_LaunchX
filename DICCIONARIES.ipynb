{
 "cells": [
  {
   "cell_type": "markdown",
   "metadata": {},
   "source": [
    "## DICCIONARIOS"
   ]
  },
  {
   "cell_type": "markdown",
   "metadata": {},
   "source": [
    "Para este ejercicio, crearás un diccionario que almacene información sobre el planeta Marte.\n",
    "\n",
    "Agrega el código para crear un nuevo diccionario denominado 'planet'. Rellena con la siguiente información:\n",
    "name: Mars\n",
    "moons: 2\n",
    "# Crea un diccionario llamado planet con los datos propuestos"
   ]
  },
  {
   "cell_type": "code",
   "execution_count": 21,
   "metadata": {},
   "outputs": [],
   "source": [
    "planet = {'name':'Mars','moons':2}"
   ]
  },
  {
   "cell_type": "markdown",
   "metadata": {},
   "source": [
    "Para recuperar valores, puede utilizar el método get o corchetes ([ ]) con el nombre de la clave que desea recuperar.\n",
    "\n",
    "# Muestra el nombre del planeta y el número de lunas que tiene."
   ]
  },
  {
   "cell_type": "code",
   "execution_count": 22,
   "metadata": {},
   "outputs": [
    {
     "name": "stdout",
     "output_type": "stream",
     "text": [
      "Mars tiene 2 lunas\n"
     ]
    }
   ],
   "source": [
    "print(f'{planet[\"name\"]} tiene {planet[\"moons\"]} lunas')"
   ]
  },
  {
   "cell_type": "markdown",
   "metadata": {},
   "source": [
    "Agrega un nuevo valor con una clave de 'circunferencia (km)'. Este nuevo valor debería almacenar un diccionario con las dos circunferencias del planeta:\n",
    "\n",
    "polar: 6752\n",
    "equatorial: 6792\n",
    "# Agrega la clave circunferencia con los datos proporcionados previamente"
   ]
  },
  {
   "cell_type": "code",
   "execution_count": 23,
   "metadata": {},
   "outputs": [],
   "source": [
    "planet[\"circunferencia (km)\"] = {\"polar\":6752, \"equatorial\":6792}"
   ]
  },
  {
   "cell_type": "markdown",
   "metadata": {},
   "source": [
    "Imprime el nombre del planeta con su circunferencia polar.\n",
    "# Imprime el nombre del planeta con su circunferencia polar."
   ]
  },
  {
   "cell_type": "code",
   "execution_count": 24,
   "metadata": {},
   "outputs": [
    {
     "name": "stdout",
     "output_type": "stream",
     "text": [
      "Mars con circunferencia polar de 6752 km\n"
     ]
    }
   ],
   "source": [
    "print(f'{planet[\"name\"]} con circunferencia polar de {planet[\"circunferencia (km)\"][\"polar\"]} km')"
   ]
  },
  {
   "cell_type": "markdown",
   "metadata": {},
   "source": [
    "En este escenario, calcularás tanto el número total de lunas en el sistema solar como el número promedio de lunas que tiene un planeta."
   ]
  },
  {
   "cell_type": "code",
   "execution_count": 25,
   "metadata": {},
   "outputs": [],
   "source": [
    "# Planets and moons\n",
    "planet_moons = {\n",
    "    'mercury': 0,\n",
    "    'venus': 0,\n",
    "    'earth': 1,\n",
    "    'mars': 2,\n",
    "    'jupiter': 79,\n",
    "    'saturn': 82,\n",
    "    'uranus': 27,\n",
    "    'neptune': 14,\n",
    "    'pluto': 5,\n",
    "    'haumea': 2,\n",
    "    'makemake': 1,\n",
    "    'eris': 1\n",
    "}"
   ]
  },
  {
   "cell_type": "markdown",
   "metadata": {},
   "source": [
    "Agrega el código a continuación para determinar el número de lunas. Comienza almacenando el valor values de planet_moons en una variable denominada moons. A continuación, almacena el número de planetas en una variable denominada planets.\n",
    "# Añade el código para determinar el número de lunas."
   ]
  },
  {
   "cell_type": "code",
   "execution_count": 26,
   "metadata": {},
   "outputs": [],
   "source": [
    "moons = planet_moons.values()\n",
    "planets = len(planet_moons.keys())"
   ]
  },
  {
   "cell_type": "markdown",
   "metadata": {},
   "source": [
    "Agrega el código para contar el número de lunas. Puedes hacerlo creando un ciclo for para iterar a través de las lunas moons y agregándolos a una variable denominada total_moons. Finalmente calcule el promedio dividiendo total_moons por planets e imprimiendo los resultados.\n",
    "\n",
    "# Agrega el código para contar el número de lunas. "
   ]
  },
  {
   "cell_type": "code",
   "execution_count": 29,
   "metadata": {},
   "outputs": [
    {
     "name": "stdout",
     "output_type": "stream",
     "text": [
      "17.833333333333332\n"
     ]
    }
   ],
   "source": [
    "total_moons=0\n",
    "for moon in moons:\n",
    "    total_moons=total_moons + moon\n",
    "print(total_moons/planets)"
   ]
  }
 ],
 "metadata": {
  "interpreter": {
   "hash": "da7ce5f3ff9f47d24bb939b13b53992dcf854878b28fcfc53992ecbe890c179b"
  },
  "kernelspec": {
   "display_name": "Python 3.10.2 64-bit",
   "language": "python",
   "name": "python3"
  },
  "language_info": {
   "codemirror_mode": {
    "name": "ipython",
    "version": 3
   },
   "file_extension": ".py",
   "mimetype": "text/x-python",
   "name": "python",
   "nbconvert_exporter": "python",
   "pygments_lexer": "ipython3",
   "version": "3.10.2"
  },
  "orig_nbformat": 4
 },
 "nbformat": 4,
 "nbformat_minor": 2
}
