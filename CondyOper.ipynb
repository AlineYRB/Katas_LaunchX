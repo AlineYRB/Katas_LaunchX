{
 "cells": [
  {
   "cell_type": "markdown",
   "metadata": {},
   "source": [
    "## CONDICIONALES I"
   ]
  },
  {
   "cell_type": "markdown",
   "metadata": {},
   "source": [
    "Para este ejercicio, escribirás una lógica condicional que imprima una advertencia si un asteroide se acerca a la Tierra demasiado rápido. La velocidad del asteroide varía dependiendo de lo cerca que esté del sol, y cualquier velocidad superior a 25 kilómetros por segundo (km/s) merece una advertencia.\n",
    "\n",
    "Un asteroide se acerca, y viaja a una velocidad de 49 km/s.\n",
    "# Añadir el código necesario para crear una variable que guarde la velocidad del asteroide.\n",
    "# Escribe una expresión de prueba para calcular si necesita una advertencia.\n",
    "# Agregue las instrucciones que se ejecutarán si la expresión de prueba es true o false."
   ]
  },
  {
   "cell_type": "code",
   "execution_count": 1,
   "metadata": {},
   "outputs": [
    {
     "name": "stdout",
     "output_type": "stream",
     "text": [
      "WARNING!, ASTEROID TRAVEL RAPIDLY CLOSE TO EARTH, YOU MIGHT DIE :0 \n",
      "HAVE A NICE DAY :)\n"
     ]
    }
   ],
   "source": [
    "asteroidvel = 49\n",
    "if asteroidvel >=25:\n",
    "    print(\"WARNING!, ASTEROID TRAVEL RAPIDLY CLOSE TO EARTH, YOU MIGHT DIE :0 \\nHAVE A NICE DAY :)\")"
   ]
  },
  {
   "cell_type": "markdown",
   "metadata": {},
   "source": [
    "## CONDICIONALES II"
   ]
  },
  {
   "cell_type": "markdown",
   "metadata": {},
   "source": [
    "Si un asteroide entra en la atmósfera de la Tierra a una velocidad mayor o igual a 20 km/s, a veces produce un rayo de luz que se puede ver desde la Tierra. Escribe la lógica condicional que usa declaraciones if, else, y elif para alertar a las personas de todo el mundo que deben buscar un asteroide en el cielo. ¡Hay uno que se dirige a la tierra ahora a una velocidad de 19 km/s!\n",
    "# Agrega el código para crear una variable para un asteroide que viaja a 19 km/s\n",
    "# Escribe varias expresiones de prueba para determinar si puedes ver el rayo de luz desde la tierra\n",
    "# Agrega las instrucciones que se ejecutarán si las expresiones de prueba son True o False"
   ]
  },
  {
   "cell_type": "code",
   "execution_count": 2,
   "metadata": {},
   "outputs": [
    {
     "name": "stdout",
     "output_type": "stream",
     "text": [
      "Existe un asteroide aproximándose a la Tierra ahora, su velocidad es de 19 km/s\n",
      "Lamentablemente, no serás capaz de verlo\n"
     ]
    }
   ],
   "source": [
    "\n",
    "conocimiento = input(\"¿Sabes de un asteriode acercandose a la Tierra? y/n\")\n",
    "if conocimiento == \"y\":\n",
    "    asteroidvel = input(\"Introduzca la velocidad del asteriode en km/s \")\n",
    "    if int(asteroidvel) >=20 and int(asteroidvel)<25:\n",
    "        print(\"Mira al cielo, el asteroide podría producir un rayo de luz vistoso :0\")\n",
    "        veoasteroid = input(\"¿ves el asteroide? y/n\")\n",
    "        if veoasteroid == \"y\":\n",
    "            print(\"Eres un pro\")\n",
    "        else:\n",
    "            print(\"Póngase trucha\")\n",
    "    elif int(asteroidvel)<20 and int(asteroidvel)>0:\n",
    "        print(\"Un asteroide así probablemente es tan invisible como tú para ella, lo siento :(\")\n",
    "    elif int(asteroidvel)>=25:\n",
    "        print(\"Vamos a morir todos?) :'3\")\n",
    "else:\n",
    "    asteroidvel = 19\n",
    "    if asteroidvel == 19:\n",
    "        print(\"Existe un asteroide aproximándose a la Tierra ahora, su velocidad es de\",+ asteroidvel,\"km/s\\nLamentablemente, no serás capaz de verlo\")\n"
   ]
  },
  {
   "cell_type": "markdown",
   "metadata": {},
   "source": [
    "## OPERADORES I"
   ]
  },
  {
   "cell_type": "markdown",
   "metadata": {},
   "source": [
    "*Los asteroides de menos de 25 metros en su dimensión más grande probablemente se quemarán a medida que entren en la atmósfera de la Tierra.\n",
    "\n",
    "Si una pieza de un asteroide que es más grande que 25 metros pero más pequeña que 1000 metros golpeara la Tierra, causaría mucho daño.\n",
    "También discutimos en el ejercicio anterior que:\n",
    "\n",
    "La velocidad del asteroide varía en función de lo cerca que esté del sol, y cualquier velocidad superior a 25 kilómetros por segundo (km/s) merece una advertencia.\n",
    "Si un asteroide entra en la atmósfera de la Tierra a una velocidad mayor o igual a 20 km/s, a veces produce un rayo de luz que se puede ver desde la Tierra.\n",
    "Usando toda esta información, escribe un programa que emita la advertencia o información correcta a la gente de la Tierra, según la velocidad y el tamaño de un asteroide. Utiliza instrucciones if, else, y elif, así como los operadores and y or.\n",
    "# Agrega el código para crear nuevas variables para la velocidad y el tamaño del asteroide\n",
    "# Para probar el código, prueba con varias velocidades y tamaños\n",
    "# Escribe varias expresiones de prueba o combinaciones de expresiones de prueba para determinar qué mensaje se debe enviar a Tierra."
   ]
  },
  {
   "cell_type": "code",
   "execution_count": 3,
   "metadata": {},
   "outputs": [
    {
     "name": "stdout",
     "output_type": "stream",
     "text": [
      "Un asteroide así probablemente es tan invisible como tú para ella, lo siento :(\n"
     ]
    }
   ],
   "source": [
    "    asteroidvel = input(\"Introduzca la velocidad del asteriode en km/s \")\n",
    "    asteroidtam = input(\"introduzca el tamaño del asteroide en m\")\n",
    "    if int(asteroidvel) >=20 and int(asteroidvel)<25 and asteroidtam<25:\n",
    "        print(\"Mira al cielo, el asteroide podría producir un rayo de luz vistoso :0 y es inofensivo\")\n",
    "    elif int(asteroidvel) >=20 and int(asteroidvel)<25 and asteroidtam>=25:\n",
    "        print(\"Mira al cielo, el asteroide podría producir un rayo de luz vistoso :0 disfrútalo porque a causa del tamaño, quizás mueras :'(\")\n",
    "    elif int(asteroidvel)<20 and int(asteroidvel)>0:\n",
    "        print(\"Un asteroide así probablemente es tan invisible como tú para ella, lo siento :(\")\n",
    "    elif int(asteroidvel)>=25:\n",
    "        print(\"Warning! Este asteroide es bastante amenazador\")\n",
    "    elif int(asteroidtam)>25 and int(asteroidtam)<1000:\n",
    "        print(\"Watch out!! eso causará mucho daño :c\")\n"
   ]
  }
 ],
 "metadata": {
  "interpreter": {
   "hash": "da7ce5f3ff9f47d24bb939b13b53992dcf854878b28fcfc53992ecbe890c179b"
  },
  "kernelspec": {
   "display_name": "Python 3.10.2 64-bit",
   "language": "python",
   "name": "python3"
  },
  "language_info": {
   "codemirror_mode": {
    "name": "ipython",
    "version": 3
   },
   "file_extension": ".py",
   "mimetype": "text/x-python",
   "name": "python",
   "nbconvert_exporter": "python",
   "pygments_lexer": "ipython3",
   "version": "3.10.2"
  },
  "orig_nbformat": 4
 },
 "nbformat": 4,
 "nbformat_minor": 2
}
